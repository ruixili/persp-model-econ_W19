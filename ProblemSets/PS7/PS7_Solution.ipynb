{
 "cells": [
  {
   "cell_type": "markdown",
   "metadata": {},
   "source": [
    "# Problem Set #7"
   ]
  },
  {
   "cell_type": "markdown",
   "metadata": {},
   "source": [
    "### MACS 30150, Dr. Evans\n",
    "### Ruixi Li"
   ]
  },
  {
   "cell_type": "code",
   "execution_count": 1,
   "metadata": {},
   "outputs": [],
   "source": [
    "import warnings\n",
    "warnings.filterwarnings(\"ignore\")"
   ]
  },
  {
   "cell_type": "markdown",
   "metadata": {},
   "source": [
    "## 1.Multinomial logistic regression and cross validation"
   ]
  },
  {
   "cell_type": "markdown",
   "metadata": {},
   "source": [
    "##### (a)"
   ]
  },
  {
   "cell_type": "code",
   "execution_count": 2,
   "metadata": {},
   "outputs": [
    {
     "data": {
      "text/html": [
       "<div>\n",
       "<style scoped>\n",
       "    .dataframe tbody tr th:only-of-type {\n",
       "        vertical-align: middle;\n",
       "    }\n",
       "\n",
       "    .dataframe tbody tr th {\n",
       "        vertical-align: top;\n",
       "    }\n",
       "\n",
       "    .dataframe thead th {\n",
       "        text-align: right;\n",
       "    }\n",
       "</style>\n",
       "<table border=\"1\" class=\"dataframe\">\n",
       "  <thead>\n",
       "    <tr style=\"text-align: right;\">\n",
       "      <th></th>\n",
       "      <th>cultivar</th>\n",
       "      <th>alco</th>\n",
       "      <th>malic</th>\n",
       "      <th>ash</th>\n",
       "      <th>alk</th>\n",
       "      <th>magn</th>\n",
       "      <th>tot_phen</th>\n",
       "      <th>flav</th>\n",
       "      <th>nonfl_phen</th>\n",
       "      <th>proanth</th>\n",
       "      <th>color_int</th>\n",
       "      <th>hue</th>\n",
       "      <th>OD280rat</th>\n",
       "      <th>proline</th>\n",
       "    </tr>\n",
       "  </thead>\n",
       "  <tbody>\n",
       "    <tr>\n",
       "      <th>0</th>\n",
       "      <td>1</td>\n",
       "      <td>14.23</td>\n",
       "      <td>1.71</td>\n",
       "      <td>2.43</td>\n",
       "      <td>15.6</td>\n",
       "      <td>127</td>\n",
       "      <td>2.80</td>\n",
       "      <td>3.06</td>\n",
       "      <td>0.28</td>\n",
       "      <td>2.29</td>\n",
       "      <td>5.64</td>\n",
       "      <td>1.04</td>\n",
       "      <td>3.92</td>\n",
       "      <td>1065</td>\n",
       "    </tr>\n",
       "    <tr>\n",
       "      <th>1</th>\n",
       "      <td>1</td>\n",
       "      <td>13.20</td>\n",
       "      <td>1.78</td>\n",
       "      <td>2.14</td>\n",
       "      <td>11.2</td>\n",
       "      <td>100</td>\n",
       "      <td>2.65</td>\n",
       "      <td>2.76</td>\n",
       "      <td>0.26</td>\n",
       "      <td>1.28</td>\n",
       "      <td>4.38</td>\n",
       "      <td>1.05</td>\n",
       "      <td>3.40</td>\n",
       "      <td>1050</td>\n",
       "    </tr>\n",
       "    <tr>\n",
       "      <th>2</th>\n",
       "      <td>1</td>\n",
       "      <td>13.16</td>\n",
       "      <td>2.36</td>\n",
       "      <td>2.67</td>\n",
       "      <td>18.6</td>\n",
       "      <td>101</td>\n",
       "      <td>2.80</td>\n",
       "      <td>3.24</td>\n",
       "      <td>0.30</td>\n",
       "      <td>2.81</td>\n",
       "      <td>5.68</td>\n",
       "      <td>1.03</td>\n",
       "      <td>3.17</td>\n",
       "      <td>1185</td>\n",
       "    </tr>\n",
       "    <tr>\n",
       "      <th>3</th>\n",
       "      <td>1</td>\n",
       "      <td>14.37</td>\n",
       "      <td>1.95</td>\n",
       "      <td>2.50</td>\n",
       "      <td>16.8</td>\n",
       "      <td>113</td>\n",
       "      <td>3.85</td>\n",
       "      <td>3.49</td>\n",
       "      <td>0.24</td>\n",
       "      <td>2.18</td>\n",
       "      <td>7.80</td>\n",
       "      <td>0.86</td>\n",
       "      <td>3.45</td>\n",
       "      <td>1480</td>\n",
       "    </tr>\n",
       "    <tr>\n",
       "      <th>4</th>\n",
       "      <td>1</td>\n",
       "      <td>13.24</td>\n",
       "      <td>2.59</td>\n",
       "      <td>2.87</td>\n",
       "      <td>21.0</td>\n",
       "      <td>118</td>\n",
       "      <td>2.80</td>\n",
       "      <td>2.69</td>\n",
       "      <td>0.39</td>\n",
       "      <td>1.82</td>\n",
       "      <td>4.32</td>\n",
       "      <td>1.04</td>\n",
       "      <td>2.93</td>\n",
       "      <td>735</td>\n",
       "    </tr>\n",
       "  </tbody>\n",
       "</table>\n",
       "</div>"
      ],
      "text/plain": [
       "   cultivar   alco  malic   ash   alk  magn  tot_phen  flav  nonfl_phen  \\\n",
       "0         1  14.23   1.71  2.43  15.6   127      2.80  3.06        0.28   \n",
       "1         1  13.20   1.78  2.14  11.2   100      2.65  2.76        0.26   \n",
       "2         1  13.16   2.36  2.67  18.6   101      2.80  3.24        0.30   \n",
       "3         1  14.37   1.95  2.50  16.8   113      3.85  3.49        0.24   \n",
       "4         1  13.24   2.59  2.87  21.0   118      2.80  2.69        0.39   \n",
       "\n",
       "   proanth  color_int   hue  OD280rat  proline  \n",
       "0     2.29       5.64  1.04      3.92     1065  \n",
       "1     1.28       4.38  1.05      3.40     1050  \n",
       "2     2.81       5.68  1.03      3.17     1185  \n",
       "3     2.18       7.80  0.86      3.45     1480  \n",
       "4     1.82       4.32  1.04      2.93      735  "
      ]
     },
     "execution_count": 2,
     "metadata": {},
     "output_type": "execute_result"
    }
   ],
   "source": [
    "import pandas as pd\n",
    "\n",
    "df = pd.read_csv('data/strongdrink.txt')\n",
    "df.head()"
   ]
  },
  {
   "cell_type": "code",
   "execution_count": 3,
   "metadata": {},
   "outputs": [
    {
     "data": {
      "text/plain": [
       "2    71\n",
       "1    59\n",
       "3    46\n",
       "Name: cultivar, dtype: int64"
      ]
     },
     "execution_count": 3,
     "metadata": {},
     "output_type": "execute_result"
    }
   ],
   "source": [
    "df[\"cultivar\"].value_counts()"
   ]
  },
  {
   "cell_type": "code",
   "execution_count": 4,
   "metadata": {},
   "outputs": [
    {
     "name": "stdout",
     "output_type": "stream",
     "text": [
      "j = 1:\n",
      "Intercept = -24.027612332384205\n",
      "Coefficients = [ 1.70173372 -0.26578706  1.22410088  0.02250769]\n",
      "j = 2:\n",
      "Intercept = 22.780728453347873\n",
      "Coefficients = [-1.46629723 -0.33295031  0.6635562  -0.92268173]\n"
     ]
    }
   ],
   "source": [
    "from sklearn.linear_model import LogisticRegression\n",
    "from sklearn.model_selection import train_test_split\n",
    "from sklearn.metrics import classification_report\n",
    "\n",
    "X = df[['alco', 'malic', 'tot_phen', 'color_int']]\n",
    "y = df['cultivar']\n",
    "X_train, X_test, y_train, y_test = train_test_split(X, y, test_size = 0.25, random_state=20)\n",
    "result = LogisticRegression(solver='lbfgs',multi_class='multinomial').fit(X_train, y_train)\n",
    "print('j = 1:')\n",
    "print('Intercept =', result.intercept_[0])\n",
    "print('Coefficients =', result.coef_[0])\n",
    "print('j = 2:')\n",
    "print('Intercept =', result.intercept_[1])\n",
    "print('Coefficients =', result.coef_[1])"
   ]
  },
  {
   "cell_type": "code",
   "execution_count": 5,
   "metadata": {},
   "outputs": [
    {
     "name": "stdout",
     "output_type": "stream",
     "text": [
      "              precision    recall  f1-score   support\n",
      "\n",
      "           1       0.87      1.00      0.93        13\n",
      "           2       1.00      0.90      0.95        21\n",
      "           3       1.00      1.00      1.00        10\n",
      "\n",
      "   micro avg       0.95      0.95      0.95        44\n",
      "   macro avg       0.96      0.97      0.96        44\n",
      "weighted avg       0.96      0.95      0.96        44\n",
      "\n"
     ]
    }
   ],
   "source": [
    "y_pred = result.predict(X_test)\n",
    "print(classification_report(y_test, y_pred))"
   ]
  },
  {
   "cell_type": "markdown",
   "metadata": {},
   "source": [
    "From the classification report, the error rate for j = 1 is 13%, for j = 2 is 0%, for j = 3 is 0%. According to the f1-score, j = 3 is best at prediction and more accurate than j = 2 which is the one with most observations."
   ]
  },
  {
   "cell_type": "code",
   "execution_count": 6,
   "metadata": {},
   "outputs": [
    {
     "name": "stdout",
     "output_type": "stream",
     "text": [
      "The MSE from the test set is  0.045454545454545456\n"
     ]
    }
   ],
   "source": [
    "MSE = (y_test != y_pred).mean()\n",
    "print('The MSE from the test set is ', MSE)"
   ]
  },
  {
   "cell_type": "markdown",
   "metadata": {},
   "source": [
    "## (b)"
   ]
  },
  {
   "cell_type": "code",
   "execution_count": 7,
   "metadata": {},
   "outputs": [
    {
     "name": "stdout",
     "output_type": "stream",
     "text": [
      "              precision    recall  f1-score   support\n",
      "\n",
      "         1.0       0.84      0.78      0.81        59\n",
      "         2.0       0.83      0.89      0.86        71\n",
      "         3.0       0.96      0.93      0.95        46\n",
      "\n",
      "   micro avg       0.86      0.86      0.86       176\n",
      "   macro avg       0.87      0.87      0.87       176\n",
      "weighted avg       0.86      0.86      0.86       176\n",
      "\n",
      "The LOOCV estimate for the test MSE is 0.13636363636363635\n"
     ]
    }
   ],
   "source": [
    "import numpy as np\n",
    "from sklearn.model_selection import LeaveOneOut\n",
    "\n",
    "X = df[['alco', 'malic', 'tot_phen', 'color_int']].values\n",
    "y = df['cultivar'].values\n",
    "\n",
    "N_loo = X.shape[0]\n",
    "loo = LeaveOneOut()\n",
    "loo.get_n_splits(X)\n",
    "\n",
    "MSE_vec = np.zeros(N_loo)\n",
    "y_test_lst = np.zeros(N_loo)\n",
    "y_pred_lst = np.zeros(N_loo)\n",
    "\n",
    "for train_index, test_index in loo.split(X):\n",
    "    X_train, X_test = X[train_index], X[test_index]\n",
    "    y_train, y_test = y[train_index], y[test_index]\n",
    "    LogReg = LogisticRegression()\n",
    "    LogReg.fit(X_train, y_train)\n",
    "    y_pred = LogReg.predict(X_test)\n",
    "    y_pred_lst[test_index] = y_pred\n",
    "    y_test_lst[test_index] = y_test\n",
    "    MSE_vec[test_index] = (y_test != y_pred)\n",
    "MSE_LOO = MSE_vec.mean()\n",
    "print(classification_report(y_test_lst, y_pred_lst))\n",
    "print('The LOOCV estimate for the test MSE is', MSE_LOO)"
   ]
  },
  {
   "cell_type": "markdown",
   "metadata": {},
   "source": [
    "From the classification report, the error rate for j = 1 is 16%, for j = 2 is 17%, for j = 3 is 4%.\n",
    "\n",
    "Compared with the method of (a), the LOOCV's error rate is higher."
   ]
  },
  {
   "cell_type": "markdown",
   "metadata": {},
   "source": [
    "## (c)"
   ]
  },
  {
   "cell_type": "code",
   "execution_count": 8,
   "metadata": {},
   "outputs": [
    {
     "name": "stdout",
     "output_type": "stream",
     "text": [
      "              precision    recall  f1-score   support\n",
      "\n",
      "         1.0       0.78      0.73      0.75        59\n",
      "         2.0       0.79      0.85      0.82        71\n",
      "         3.0       0.96      0.93      0.95        46\n",
      "\n",
      "   micro avg       0.83      0.83      0.83       176\n",
      "   macro avg       0.84      0.84      0.84       176\n",
      "weighted avg       0.83      0.83      0.83       176\n",
      "\n",
      "The k-fold estimate for the test MSE is 0.17045454545454544\n"
     ]
    }
   ],
   "source": [
    "from sklearn.model_selection import KFold\n",
    "\n",
    "k = 4\n",
    "kf = KFold(k, random_state=10, shuffle=True)\n",
    "kf.get_n_splits(X)\n",
    "MSE_vec = np.zeros(k)\n",
    "y_test_lst = np.zeros(X.shape[0])\n",
    "y_pred_lst = np.zeros(X.shape[0])\n",
    "k_ind = int(0)\n",
    "\n",
    "for train_index, test_index in kf.split(X):\n",
    "    X_train, X_test = X[train_index], X[test_index]\n",
    "    y_train, y_test = y[train_index], y[test_index]\n",
    "    LogReg = LogisticRegression()\n",
    "    LogReg.fit(X_train, y_train)\n",
    "    y_pred = LogReg.predict(X_test)\n",
    "    y_test_lst[test_index] = y_test\n",
    "    y_pred_lst[test_index] = y_pred\n",
    "    MSE_vec[k_ind] = (y_test != y_pred).mean()\n",
    "    k_ind += 1\n",
    "MSE_KF = MSE_vec.mean()\n",
    "print(classification_report(y_test_lst, y_pred_lst))\n",
    "print('The k-fold estimate for the test MSE is', MSE_KF)"
   ]
  },
  {
   "cell_type": "markdown",
   "metadata": {},
   "source": [
    "From the classification report, the error rate for j = 1 is 22%, for j = 2 is 21%, for j = 3 is 4%.\n",
    "\n",
    "Compared with the method of (a) and (b), the k-fold estimate's error rate is higher."
   ]
  },
  {
   "cell_type": "markdown",
   "metadata": {},
   "source": [
    "## 2"
   ]
  },
  {
   "cell_type": "markdown",
   "metadata": {},
   "source": [
    "## (a)"
   ]
  },
  {
   "cell_type": "code",
   "execution_count": 9,
   "metadata": {},
   "outputs": [
    {
     "data": {
      "text/html": [
       "<div>\n",
       "<style scoped>\n",
       "    .dataframe tbody tr th:only-of-type {\n",
       "        vertical-align: middle;\n",
       "    }\n",
       "\n",
       "    .dataframe tbody tr th {\n",
       "        vertical-align: top;\n",
       "    }\n",
       "\n",
       "    .dataframe thead th {\n",
       "        text-align: right;\n",
       "    }\n",
       "</style>\n",
       "<table border=\"1\" class=\"dataframe\">\n",
       "  <thead>\n",
       "    <tr style=\"text-align: right;\">\n",
       "      <th></th>\n",
       "      <th>Age</th>\n",
       "      <th>CoolIndex</th>\n",
       "    </tr>\n",
       "  </thead>\n",
       "  <tbody>\n",
       "    <tr>\n",
       "      <th>0</th>\n",
       "      <td>11.0</td>\n",
       "      <td>10.981602</td>\n",
       "    </tr>\n",
       "    <tr>\n",
       "      <th>1</th>\n",
       "      <td>11.0</td>\n",
       "      <td>11.364925</td>\n",
       "    </tr>\n",
       "    <tr>\n",
       "      <th>2</th>\n",
       "      <td>11.0</td>\n",
       "      <td>10.190227</td>\n",
       "    </tr>\n",
       "    <tr>\n",
       "      <th>3</th>\n",
       "      <td>11.0</td>\n",
       "      <td>9.903725</td>\n",
       "    </tr>\n",
       "    <tr>\n",
       "      <th>4</th>\n",
       "      <td>11.0</td>\n",
       "      <td>8.997918</td>\n",
       "    </tr>\n",
       "  </tbody>\n",
       "</table>\n",
       "</div>"
      ],
      "text/plain": [
       "    Age  CoolIndex\n",
       "0  11.0  10.981602\n",
       "1  11.0  11.364925\n",
       "2  11.0  10.190227\n",
       "3  11.0   9.903725\n",
       "4  11.0   8.997918"
      ]
     },
     "execution_count": 9,
     "metadata": {},
     "output_type": "execute_result"
    }
   ],
   "source": [
    "df = pd.read_csv('data/CoolIndex.txt', header=None, names=['Age', 'CoolIndex'])\n",
    "df.head()"
   ]
  },
  {
   "cell_type": "code",
   "execution_count": 20,
   "metadata": {},
   "outputs": [
    {
     "data": {
      "image/png": "[encoded data removed]",
      "text/plain": [
       "<Figure size 432x288 with 1 Axes>"
      ]
     },
     "metadata": {
      "needs_background": "light"
     },
     "output_type": "display_data"
    }
   ],
   "source": [
    "import matplotlib\n",
    "import matplotlib.pyplot as plt\n",
    "\n",
    "plt.scatter(df['Age'], df['CoolIndex'], color='b')\n",
    "plt.xlabel('Age')\n",
    "plt.ylabel('Coolness Index')\n",
    "plt.title('Coolness Index data by age')\n",
    "plt.show()"
   ]
  },
  {
   "cell_type": "markdown",
   "metadata": {},
   "source": [
    "## (b)"
   ]
  },
  {
   "cell_type": "code",
   "execution_count": 11,
   "metadata": {},
   "outputs": [
    {
     "name": "stdout",
     "output_type": "stream",
     "text": [
      "The estimated step function values for bin1 is 20.102457252090748\n",
      "The estimated step function values for bin2 is 34.47578807755938\n",
      "The estimated step function values for bin3 is 37.63510549244961\n",
      "The estimated step function values for bin4 is 35.22540004024275\n",
      "The estimated step function values for bin5 is 27.296378244321282\n"
     ]
    }
   ],
   "source": [
    "import statsmodels.api as sm\n",
    "\n",
    "df[\"bin1\"] = np.where((df.Age >= 11) & (df.Age < 22), 1, 0)\n",
    "df[\"bin2\"] = np.where((df.Age >= 22) & (df.Age < 40), 1, 0)\n",
    "df[\"bin3\"] = np.where((df.Age >= 40) & (df.Age < 59), 1, 0)\n",
    "df[\"bin4\"] = np.where((df.Age >= 59) & (df.Age < 77), 1, 0)\n",
    "df[\"bin5\"] = np.where((df.Age >= 77) & (df.Age <= 95), 1, 0)\n",
    "\n",
    "X = df[[\"bin1\", \"bin2\", \"bin3\", \"bin4\", \"bin5\"]]\n",
    "y = df['CoolIndex']\n",
    "res = sm.OLS(y,X).fit()\n",
    "coef = np.array(res.params.values)\n",
    "print('The estimated step function values for bin1 is', coef[0])\n",
    "print('The estimated step function values for bin2 is', coef[1])\n",
    "print('The estimated step function values for bin3 is', coef[2])\n",
    "print('The estimated step function values for bin4 is', coef[3])\n",
    "print('The estimated step function values for bin5 is', coef[4])"
   ]
  },
  {
   "cell_type": "code",
   "execution_count": 12,
   "metadata": {},
   "outputs": [
    {
     "data": {
      "image/png": "[encoded data removed]",
      "text/plain": [
       "<Figure size 432x288 with 1 Axes>"
      ]
     },
     "metadata": {
      "needs_background": "light"
     },
     "output_type": "display_data"
    }
   ],
   "source": [
    "plt.scatter(df['Age'], df['CoolIndex'], color='b')\n",
    "lower_age = np.array([11, 22, 40, 59, 77])\n",
    "upper_age = np.array([22, 40, 59, 77, 95])\n",
    "plt.hlines(coef, lower_age, upper_age, color='r', label='Stepwise function')\n",
    "plt.xlabel('Age')\n",
    "plt.ylabel('Coolness Index')\n",
    "plt.legend(loc='upper right')\n",
    "plt.title('Coolness Index data by age')\n",
    "plt.show()"
   ]
  },
  {
   "cell_type": "code",
   "execution_count": 13,
   "metadata": {},
   "outputs": [
    {
     "name": "stdout",
     "output_type": "stream",
     "text": [
      "The predicted coolness of a 73-year old from the stepwise function is 35.22540004024275\n"
     ]
    }
   ],
   "source": [
    "print('The predicted coolness of a 73-year old from the stepwise function is', res.predict([0,0,0,1,0])[0])"
   ]
  },
  {
   "cell_type": "markdown",
   "metadata": {},
   "source": [
    "## (c)"
   ]
  },
  {
   "cell_type": "code",
   "execution_count": 14,
   "metadata": {},
   "outputs": [],
   "source": [
    "from scipy.interpolate import LSQUnivariateSpline\n",
    "\n",
    "t = np.array([22, 40, 59, 77])\n",
    "df.sort_index(0, ascending=True, inplace=True)\n",
    "grouped_age = df.groupby('Age', as_index = False).mean()\n",
    "result_ls = LSQUnivariateSpline(grouped_age['Age'].values, grouped_age['CoolIndex'].values, t, k=1)\n",
    "age_vec = np.linspace(11, 95, 1000)"
   ]
  },
  {
   "cell_type": "code",
   "execution_count": 15,
   "metadata": {},
   "outputs": [
    {
     "data": {
      "image/png": "[encoded data removed]",
      "text/plain": [
       "<Figure size 432x288 with 1 Axes>"
      ]
     },
     "metadata": {
      "needs_background": "light"
     },
     "output_type": "display_data"
    }
   ],
   "source": [
    "plt.scatter(df['Age'], df['CoolIndex'], color='b')\n",
    "plt.hlines(coef, lower_age, upper_age, color='r', label='Stepwise function')\n",
    "plt.plot(age_vec, result_ls(age_vec), color='g', label='linear Spline')\n",
    "plt.xlabel('Age')\n",
    "plt.ylabel('Coolness Index')\n",
    "plt.legend(loc='upper right')\n",
    "plt.title('Coolness Index data by age')\n",
    "plt.show()"
   ]
  },
  {
   "cell_type": "code",
   "execution_count": 16,
   "metadata": {},
   "outputs": [
    {
     "name": "stdout",
     "output_type": "stream",
     "text": [
      "The predicted coolness index of a 73-year-old person from the linear spline is 32.86784862349653\n"
     ]
    }
   ],
   "source": [
    "print('The predicted coolness index of a 73-year-old person from the linear spline is', result_ls(73))"
   ]
  },
  {
   "cell_type": "markdown",
   "metadata": {},
   "source": [
    "## (d)"
   ]
  },
  {
   "cell_type": "code",
   "execution_count": 17,
   "metadata": {},
   "outputs": [],
   "source": [
    "result_cs = LSQUnivariateSpline(grouped_age['Age'].values, grouped_age['CoolIndex'].values, t, k=3)"
   ]
  },
  {
   "cell_type": "code",
   "execution_count": 18,
   "metadata": {},
   "outputs": [
    {
     "data": {
      "image/png": "[encoded data removed]",
      "text/plain": [
       "<Figure size 432x288 with 1 Axes>"
      ]
     },
     "metadata": {
      "needs_background": "light"
     },
     "output_type": "display_data"
    }
   ],
   "source": [
    "plt.scatter(df['Age'], df['CoolIndex'], color='b', label='Data')\n",
    "plt.hlines(coef, lower_age, upper_age, color='r', label='Step function')\n",
    "plt.plot(age_vec, result_ls(age_vec), color='g', label='Linear Spline')\n",
    "plt.plot(age_vec, result_cs(age_vec), color='y', label='Cubic Spline')\n",
    "plt.xlabel('Age')\n",
    "plt.ylabel('Coolness Index')\n",
    "plt.legend(loc='upper right')\n",
    "plt.title('Coolness Index data by age')\n",
    "plt.show()"
   ]
  },
  {
   "cell_type": "code",
   "execution_count": 19,
   "metadata": {},
   "outputs": [
    {
     "name": "stdout",
     "output_type": "stream",
     "text": [
      "The predicted coolness index of a 73-year-old person from the cubic spline is 32.642301066279764\n"
     ]
    }
   ],
   "source": [
    "print('The predicted coolness index of a 73-year-old person from the cubic spline is', result_cs(73))"
   ]
  }
 ],
 "metadata": {
  "kernelspec": {
   "display_name": "Python 3",
   "language": "python",
   "name": "python3"
  },
  "language_info": {
   "codemirror_mode": {
    "name": "ipython",
    "version": 3
   },
   "file_extension": ".py",
   "mimetype": "text/x-python",
   "name": "python",
   "nbconvert_exporter": "python",
   "pygments_lexer": "ipython3",
   "version": "3.6.6"
  }
 },
 "nbformat": 4,
 "nbformat_minor": 2
}
