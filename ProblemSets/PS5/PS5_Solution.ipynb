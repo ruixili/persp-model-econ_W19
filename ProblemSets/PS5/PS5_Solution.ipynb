{
 "cells": [
  {
   "cell_type": "markdown",
   "metadata": {},
   "source": [
    "# Problem Set #5"
   ]
  },
  {
   "cell_type": "markdown",
   "metadata": {},
   "source": [
    "### MACS 30150, Dr. Evans\n",
    "### Ruixi Li"
   ]
  },
  {
   "cell_type": "code",
   "execution_count": 1,
   "metadata": {},
   "outputs": [],
   "source": [
    "import numpy as np\n",
    "import pandas as pd\n",
    "import numpy.linalg as lin\n",
    "import scipy.stats as sts\n",
    "import scipy.integrate as intgr\n",
    "import scipy.optimize as opt\n",
    "import matplotlib\n",
    "import matplotlib.pyplot as plt"
   ]
  },
  {
   "cell_type": "markdown",
   "metadata": {},
   "source": [
    "## 1. Some income data, lognormal distribution, and GMM"
   ]
  },
  {
   "cell_type": "code",
   "execution_count": 2,
   "metadata": {},
   "outputs": [],
   "source": [
    "# Load the data as a NumPy array\n",
    "pts = np.loadtxt(\"data/incomes.txt\")"
   ]
  },
  {
   "cell_type": "markdown",
   "metadata": {},
   "source": [
    "#### (a)"
   ]
  },
  {
   "cell_type": "code",
   "execution_count": 3,
   "metadata": {},
   "outputs": [
    {
     "data": {
      "image/png": "[encoded data removed]",
      "text/plain": [
       "<Figure size 432x288 with 1 Axes>"
      ]
     },
     "metadata": {
      "needs_background": "light"
     },
     "output_type": "display_data"
    }
   ],
   "source": [
    "num_bins = 30\n",
    "plt.hist(pts, num_bins, density=True, edgecolor='k')\n",
    "plt.title('Annual incomes of MACSS students who graduated in 2018-2020') \n",
    "plt.xlabel('Incomes')\n",
    "plt.ylabel('Frequency')\n",
    "plt.xlim([0, 150000])\n",
    "plt.show()"
   ]
  },
  {
   "cell_type": "markdown",
   "metadata": {},
   "source": [
    "#### (b)"
   ]
  },
  {
   "cell_type": "code",
   "execution_count": 4,
   "metadata": {},
   "outputs": [],
   "source": [
    "# Define function that generates values of a lognormal pdf\n",
    "def trunc_lognorm_pdf(x, mu, sigma, cut_lb, cut_ub):\n",
    "    if cut_ub == 'None' and cut_lb == 'None':\n",
    "        prob_notcut = 1.0\n",
    "    elif cut_ub == 'None' and cut_lb != 'None':\n",
    "        prob_notcut = 1.0 - sts.lognorm.cdf(cut_lb, s=sigma, scale=np.exp(mu))\n",
    "    elif cut_ub != 'None' and cut_lb == 'None':\n",
    "        prob_notcut = sts.lognorm.cdf(cut_ub, s=sigma, scale=np.exp(mu))\n",
    "    elif cut_ub != 'None' and cut_lb != 'None':\n",
    "        prob_notcut = sts.lognorm.cdf(cut_ub, s=sigma, scale=np.exp(mu)) - \\\n",
    "                      sts.lognorm.cdf(cut_lb, s=sigma, scale=np.exp(mu))\n",
    "\n",
    "    pdf_vals = ((1/(x*sigma * np.sqrt(2 * np.pi)) \n",
    "                 * np.exp( -(np.log(x)-mu)**2 / (2*sigma**2))) \n",
    "                / prob_notcut)\n",
    "\n",
    "    return pdf_vals"
   ]
  },
  {
   "cell_type": "code",
   "execution_count": 5,
   "metadata": {},
   "outputs": [],
   "source": [
    "# define a criterion function that takes as inputs the parameters and the estimator for the weighting matrix\n",
    "def data_moments(xvals):\n",
    "    mean_data = xvals.mean()\n",
    "    var_data = xvals.std()\n",
    "    return mean_data, var_data\n",
    "\n",
    "def model_moments(mu, sigma, cut_lb, cut_ub):\n",
    "    xfx = lambda x: x*trunc_lognorm_pdf(x, mu, sigma, cut_lb, cut_ub)\n",
    "    (mean_model, m_m_err) = intgr.quad(xfx, cut_lb, cut_ub)\n",
    "    x2fx = lambda x: ((x - mean_model) ** 2)*trunc_lognorm_pdf(x, mu, sigma, cut_lb, cut_ub) \n",
    "    (var_model, v_m_err) = intgr.quad(x2fx, cut_lb, cut_ub)\n",
    "    return mean_model, np.sqrt(var_model)\n",
    "\n",
    "def err_vec(xvals, mu, sigma, cut_lb, cut_ub, simple):\n",
    "    mean_data, var_data = data_moments(xvals)\n",
    "    moms_data = np.array([[mean_data], [var_data]])\n",
    "    mean_model, var_model = model_moments(mu, sigma, cut_lb, cut_ub)\n",
    "    moms_model = np.array([[mean_model], [var_model]])\n",
    "    if simple:\n",
    "        err_vec = moms_model - moms_data\n",
    "    else:\n",
    "        err_vec = (moms_model - moms_data) / moms_data\n",
    "    return err_vec\n",
    "\n",
    "def criterion(params,  * args):\n",
    "    mu, sigma = params\n",
    "    xvals, cut_lb, cut_ub, W = args\n",
    "    err = err_vec(xvals, mu, sigma, cut_lb, cut_ub, simple = False)\n",
    "    crit_val = err.T @ W @ err\n",
    "    return crit_val"
   ]
  },
  {
   "cell_type": "code",
   "execution_count": 6,
   "metadata": {},
   "outputs": [
    {
     "name": "stdout",
     "output_type": "stream",
     "text": [
      "mu_GMM1 =  11.333599613401043  sig_GMM1 =  0.21325529509280705\n"
     ]
    },
    {
     "data": {
      "text/plain": [
       "      fun: array([[6.39928436e-16]])\n",
       " hess_inv: <2x2 LbfgsInvHessProduct with dtype=float64>\n",
       "      jac: array([-1.14975054e-08, -2.93650036e-08])\n",
       "  message: b'CONVERGENCE: REL_REDUCTION_OF_F_<=_FACTR*EPSMCH'\n",
       "     nfev: 45\n",
       "      nit: 10\n",
       "   status: 0\n",
       "  success: True\n",
       "        x: array([11.33359961,  0.2132553 ])"
      ]
     },
     "execution_count": 6,
     "metadata": {},
     "output_type": "execute_result"
    }
   ],
   "source": [
    "mu_init = 11\n",
    "sig_init = 0.5\n",
    "params_init = np.array([mu_init, sig_init])\n",
    "W_hat = np.eye(2)\n",
    "gmm_args = (pts, 0.0, 150000.0, W_hat)\n",
    "results = opt.minimize(criterion, params_init, args = (gmm_args), tol = 1e-14,\n",
    "                       method = 'L-BFGS-B', bounds = ((None, None), (1e-10, None)))\n",
    "mu_GMM1, sig_GMM1 = results.x\n",
    "print('mu_GMM1 = ', mu_GMM1, ' sig_GMM1 = ', sig_GMM1)\n",
    "results"
   ]
  },
  {
   "cell_type": "code",
   "execution_count": 7,
   "metadata": {},
   "outputs": [
    {
     "name": "stdout",
     "output_type": "stream",
     "text": [
      "Mean of points  =  85276.82360625811 , Standard Deviation of points  =  17992.542128046523\n",
      "Mean of model  =  85276.82405854674 , Standard Deviation  =  17992.54168300891\n",
      "Error vector =  [ 5.30376967e-09 -2.47345601e-08]\n"
     ]
    },
    {
     "data": {
      "text/plain": [
       "      fun: array([[6.39928436e-16]])\n",
       " hess_inv: <2x2 LbfgsInvHessProduct with dtype=float64>\n",
       "      jac: array([-1.14975054e-08, -2.93650036e-08])\n",
       "  message: b'CONVERGENCE: REL_REDUCTION_OF_F_<=_FACTR*EPSMCH'\n",
       "     nfev: 45\n",
       "      nit: 10\n",
       "   status: 0\n",
       "  success: True\n",
       "        x: array([11.33359961,  0.2132553 ])"
      ]
     },
     "execution_count": 7,
     "metadata": {},
     "output_type": "execute_result"
    }
   ],
   "source": [
    "mean_data, var_data = data_moments(pts)\n",
    "mean_model, var_model = model_moments(mu_GMM1, sig_GMM1, 0.0, 150000.0)\n",
    "err1 = err_vec(pts, mu_GMM1, sig_GMM1, 0.0, 150000.0, False).reshape(2,)\n",
    "print('Mean of points  = ', mean_data, ', Standard Deviation of points  = ', var_data)\n",
    "print('Mean of model  = ', mean_model, ', Standard Deviation  = ', var_model)\n",
    "print('Error vector = ', err1)\n",
    "results"
   ]
  },
  {
   "cell_type": "code",
   "execution_count": 8,
   "metadata": {},
   "outputs": [
    {
     "name": "stderr",
     "output_type": "stream",
     "text": [
      "/anaconda3/lib/python3.6/site-packages/ipykernel_launcher.py:14: RuntimeWarning: divide by zero encountered in true_divide\n",
      "  \n",
      "/anaconda3/lib/python3.6/site-packages/ipykernel_launcher.py:14: RuntimeWarning: divide by zero encountered in log\n",
      "  \n",
      "/anaconda3/lib/python3.6/site-packages/ipykernel_launcher.py:14: RuntimeWarning: invalid value encountered in multiply\n",
      "  \n"
     ]
    },
    {
     "data": {
      "image/png": "[encoded data removed]",
      "text/plain": [
       "<Figure size 432x288 with 1 Axes>"
      ]
     },
     "metadata": {
      "needs_background": "light"
     },
     "output_type": "display_data"
    }
   ],
   "source": [
    "# Plot the histogram of the data\n",
    "num_bins = 30\n",
    "plt.hist(pts, num_bins, density=True, edgecolor='k')\n",
    "plt.title('Annual incomes of MACSS students who graduated in 2018-2020') \n",
    "plt.xlabel('Incomes')\n",
    "plt.ylabel('Frequency')\n",
    "plt.xlim([0, 150000])\n",
    "\n",
    "# Plot the estimated GMM PDF\n",
    "dist_pts = np.linspace(0, 150000, 1000)\n",
    "plt.plot(dist_pts, trunc_lognorm_pdf(dist_pts, mu_GMM1, sig_GMM1, 0.0, 150000),\n",
    "         linewidth = 2, color = 'r', label = '1: $\\mu_{GMM1}$,$\\sigma_{GMM1}$')\n",
    "plt.legend(loc = 'upper left')\n",
    "plt.show()"
   ]
  },
  {
   "cell_type": "markdown",
   "metadata": {},
   "source": [
    "#### (c)"
   ]
  },
  {
   "cell_type": "code",
   "execution_count": 9,
   "metadata": {},
   "outputs": [],
   "source": [
    "def get_Err_mat2(pts, mu, sigma, cut_lb, cut_ub, simple = False):\n",
    "    R = 2\n",
    "    N = len(pts)\n",
    "    Err_mat = np.zeros((R, N))\n",
    "    mean_model, var_model = model_moments(mu, sigma, cut_lb, cut_ub)\n",
    "    if simple:\n",
    "        Err_mat[0, :] = pts - mean_model\n",
    "        Err_mat[1, :] = ((mean_data - pts)  **  2) - var_model\n",
    "    else:\n",
    "        Err_mat[0, :] = (pts - mean_model) / mean_model\n",
    "        Err_mat[1, :] = (((mean_data - pts)  **  2) - var_model) / var_model\n",
    "    \n",
    "    return Err_mat"
   ]
  },
  {
   "cell_type": "code",
   "execution_count": 10,
   "metadata": {},
   "outputs": [
    {
     "name": "stdout",
     "output_type": "stream",
     "text": [
      "[[4.45167060e-02 1.68385288e+03]\n",
      " [1.68385288e+03 9.54184437e+08]]\n",
      "[[ 2.40701668e+01 -4.24767141e-05]\n",
      " [-4.24767141e-05  1.12297423e-09]]\n"
     ]
    }
   ],
   "source": [
    "Err_mat  = get_Err_mat2(pts, mu_GMM1, sig_GMM1, 0.0, 150000.0, False)\n",
    "VCV2 = (1 / pts.shape[0]) * (Err_mat @ Err_mat.T)\n",
    "print(VCV2)\n",
    "W_hat2 = lin.inv(VCV2)\n",
    "print(W_hat2)"
   ]
  },
  {
   "cell_type": "code",
   "execution_count": 11,
   "metadata": {},
   "outputs": [
    {
     "name": "stdout",
     "output_type": "stream",
     "text": [
      "mu_GMM2 =  11.333599603618692  sig_GMM2 =  0.2132552944762103\n",
      "Mean of points  =  85276.82360625811 , Standard Deviation of points  =  17992.542128046523\n",
      "Mean of model  =  85276.82324643606 , Standard Deviation of model  =  17992.541506074205\n",
      "Error vector =  [-4.21945887e-09 -3.45683402e-08]\n",
      "GMM criterion function: [[4.28528844e-16]]\n"
     ]
    }
   ],
   "source": [
    "gmm_args = (pts, 0.0, 150000.0, W_hat2)\n",
    "params_init = np.array([mu_GMM1, sig_GMM1])\n",
    "results2 = opt.minimize(criterion, params_init, args = (gmm_args), tol = 1e-14,\n",
    "                       method = 'L-BFGS-B', bounds = ((None, None), (1e-10, None)))\n",
    "mu_GMM2, sig_GMM2 = results2.x\n",
    "print('mu_GMM2 = ', mu_GMM2, ' sig_GMM2 = ', sig_GMM2)\n",
    "\n",
    "mean_model2, var_model2 = model_moments(mu_GMM2, sig_GMM2, 0.0, 150000.0)\n",
    "err2 = err_vec(pts, mu_GMM2, sig_GMM2, 0.0, 150000.0, False).reshape(2,)\n",
    "print('Mean of points  = ', mean_data, ', Standard Deviation of points  = ', var_data)\n",
    "print('Mean of model  = ', mean_model2, ', Standard Deviation of model  = ', var_model2)\n",
    "print('Error vector = ', err2)\n",
    "print('GMM criterion function:',results2.fun)"
   ]
  },
  {
   "cell_type": "code",
   "execution_count": 12,
   "metadata": {},
   "outputs": [
    {
     "name": "stderr",
     "output_type": "stream",
     "text": [
      "/anaconda3/lib/python3.6/site-packages/ipykernel_launcher.py:14: RuntimeWarning: divide by zero encountered in true_divide\n",
      "  \n",
      "/anaconda3/lib/python3.6/site-packages/ipykernel_launcher.py:14: RuntimeWarning: divide by zero encountered in log\n",
      "  \n",
      "/anaconda3/lib/python3.6/site-packages/ipykernel_launcher.py:14: RuntimeWarning: invalid value encountered in multiply\n",
      "  \n"
     ]
    },
    {
     "data": {
      "image/png": "[encoded data removed]",
      "text/plain": [
       "<Figure size 432x288 with 1 Axes>"
      ]
     },
     "metadata": {
      "needs_background": "light"
     },
     "output_type": "display_data"
    }
   ],
   "source": [
    "# Plot the histogram of the data\n",
    "num_bins = 30\n",
    "plt.hist(pts, num_bins, density=True, edgecolor='k')\n",
    "plt.title('Annual incomes of MACSS students who graduated in 2018-2020') \n",
    "plt.xlabel('Incomes')\n",
    "plt.ylabel('Frequency')\n",
    "plt.xlim([0, 150000])\n",
    "\n",
    "# Plot the estimated GMM1 PDF1\n",
    "dist_pts = np.linspace(0, 150000, 1000)\n",
    "plt.plot(dist_pts, trunc_lognorm_pdf(dist_pts, mu_GMM1, sig_GMM1, 0.0, 150000),\n",
    "         linewidth = 2, color = 'r', label = '1: $\\mu_{GMM1}$,$\\sigma_{GMM1}$')\n",
    "plt.legend(loc = 'upper left')\n",
    "\n",
    "# Plot the estimated GMM2 PDF3\n",
    "plt.plot(dist_pts, trunc_lognorm_pdf(dist_pts, mu_GMM2, sig_GMM2, 0.0, 150000),\n",
    "         linewidth = 2, color = 'b', label = '1: $\\mu_{GMM2}$,$\\sigma_{GMM2}$')\n",
    "plt.legend(loc = 'upper left')\n",
    "plt.show()"
   ]
  },
  {
   "cell_type": "markdown",
   "metadata": {},
   "source": [
    "#### (d)"
   ]
  },
  {
   "cell_type": "code",
   "execution_count": 13,
   "metadata": {},
   "outputs": [],
   "source": [
    "def data_moments3(xvals):\n",
    "    bpct_1_dat = xvals[xvals <75000].shape[0] / xvals.shape[0]\n",
    "    bpct_2_dat = (xvals[(xvals >= 75000) & (xvals < 100000)].shape[0] /\n",
    "                  xvals.shape[0])\n",
    "    bpct_3_dat = xvals[xvals >=  100000].shape[0] / xvals.shape[0]\n",
    "    return bpct_1_dat, bpct_2_dat, bpct_3_dat\n",
    "\n",
    "def model_moments3(mu, sigma, cut_lb, cut_ub):\n",
    "    xfx = lambda x: trunc_lognorm_pdf(x, mu, sigma, cut_lb, cut_ub)\n",
    "    (bpct_1_mod, bp_1_err) = intgr.quad(xfx, 0.0, 75000)\n",
    "    (bpct_2_mod, bp_2_err) = intgr.quad(xfx, 75000, 100000)\n",
    "    (bpct_3_mod, bp_3_err) = intgr.quad(xfx, 100000, 150000)\n",
    "    return bpct_1_mod, bpct_2_mod, bpct_3_mod\n",
    "\n",
    "def err_vec3(xvals, mu, sigma, cut_lb, cut_ub, simple):\n",
    "    bpct_1_dat, bpct_2_dat, bpct_3_dat = data_moments3(xvals)\n",
    "    moms_data = np.array([[bpct_1_dat], [bpct_2_dat], [bpct_3_dat]])\n",
    "    bpct_1_mod, bpct_2_mod, bpct_3_mod = model_moments3(mu, sigma, cut_lb, cut_ub)\n",
    "    moms_model = np.array([[bpct_1_mod], [bpct_2_mod], [bpct_3_mod]])\n",
    "    if simple:\n",
    "        err_vec = moms_model - moms_data\n",
    "    else:\n",
    "        err_vec = (moms_model - moms_data) / moms_data\n",
    "    return err_vec\n",
    "\n",
    "def criterion3(params,  * args):\n",
    "    mu, sigma = params\n",
    "    xvals, cut_lb, cut_ub, W = args\n",
    "    err = err_vec3(xvals, mu, sigma, cut_lb, cut_ub, simple = False)\n",
    "    crit_val = err.T @ W @ err \n",
    "    return crit_val"
   ]
  },
  {
   "cell_type": "code",
   "execution_count": 14,
   "metadata": {},
   "outputs": [
    {
     "name": "stdout",
     "output_type": "stream",
     "text": [
      "mu_GMM1_3 =  11.33670517992345  sig_GMM1_3 =  0.2115135161076993\n",
      "Error vector =  [ 1.13768208e-08  1.18261327e-08 -4.66305616e-08]\n",
      "GMM criterion function: [[2.44369875e-15]]\n",
      "percent ['Percent <75000', 'Percent 75000~100000', 'Percent > = 100000']\n",
      "Data Moments ([0.3, 0.5, 0.2],)\n",
      "Model Moments ([0.3000000034130462, 0.5000000059130664, 0.19999999067388768],)\n"
     ]
    }
   ],
   "source": [
    "W_hat1_3 = np.eye(3)\n",
    "gmm_args = (pts, 0.0, 150000.0, W_hat1_3)\n",
    "\n",
    "results_3 = opt.minimize(criterion3, params_init, args = (gmm_args),\n",
    "                       method = 'L-BFGS-B', bounds = ((1e-10, None), (1e-10, None)))\n",
    "\n",
    "mu_GMM1_3, sig_GMM1_3 = results_3.x\n",
    "print('mu_GMM1_3 = ', mu_GMM1_3, ' sig_GMM1_3 = ', sig_GMM1_3)\n",
    "err3 = err_vec3(pts, mu_GMM1_3, sig_GMM1_3, 0.0, 150000.0, False).reshape(3,)\n",
    "\n",
    "bpct_1_dat, bpct_2_dat, bpct_3_dat = data_moments3(pts)\n",
    "pert1, pert2, pert3 = model_moments3(mu_GMM1_3, sig_GMM1_3, 0.0, 150000.0)\n",
    "\n",
    "print('Error vector = ', err3)\n",
    "print('GMM criterion function:',results_3.fun)\n",
    "bpct = [bpct_1_dat, bpct_2_dat, bpct_3_dat],\n",
    "pert = [pert1, pert2, pert3],\n",
    "print('percent', ['Percent <75000','Percent 75000~100000','Percent > = 100000'])\n",
    "print('Data Moments', bpct)\n",
    "print('Model Moments', pert)"
   ]
  },
  {
   "cell_type": "code",
   "execution_count": 15,
   "metadata": {},
   "outputs": [
    {
     "name": "stderr",
     "output_type": "stream",
     "text": [
      "/anaconda3/lib/python3.6/site-packages/ipykernel_launcher.py:14: RuntimeWarning: divide by zero encountered in true_divide\n",
      "  \n",
      "/anaconda3/lib/python3.6/site-packages/ipykernel_launcher.py:14: RuntimeWarning: divide by zero encountered in log\n",
      "  \n",
      "/anaconda3/lib/python3.6/site-packages/ipykernel_launcher.py:14: RuntimeWarning: invalid value encountered in multiply\n",
      "  \n"
     ]
    },
    {
     "data": {
      "image/png": "[encoded data removed]",
      "text/plain": [
       "<Figure size 432x288 with 1 Axes>"
      ]
     },
     "metadata": {
      "needs_background": "light"
     },
     "output_type": "display_data"
    }
   ],
   "source": [
    "num_bins = 30\n",
    "plt.hist(pts, num_bins, density=True, edgecolor='k')\n",
    "plt.title('Annual incomes of MACSS students who graduated in 2018-2020') \n",
    "plt.xlabel('Incomes')\n",
    "plt.ylabel('Frequency')\n",
    "plt.xlim([0, 150000])\n",
    "\n",
    "plt.plot(dist_pts, trunc_lognorm_pdf(dist_pts, mu_GMM1_3, sig_GMM1_3, 0.0, 150000),\n",
    "         linewidth = 2, color = 'r', label = '1: $\\mu_{GMM3}$,$\\sigma_{GMM3}$')\n",
    "plt.legend(loc = 'upper left')\n",
    "\n",
    "plt.show()"
   ]
  },
  {
   "cell_type": "markdown",
   "metadata": {},
   "source": [
    "#### (e)"
   ]
  },
  {
   "cell_type": "code",
   "execution_count": 16,
   "metadata": {},
   "outputs": [],
   "source": [
    "def get_Err_mat3(pts, mu, sigma, cut_lb, cut_ub, simple = False):\n",
    "    R = 3\n",
    "    N = len(pts)\n",
    "    Err_mat = np.zeros((R, N))\n",
    "    pct_1_mod, pct_2_mod, pct_3_mod = \\\n",
    "        model_moments3(mu, sigma, cut_lb, cut_ub)\n",
    "    if simple:\n",
    "        pts_in_grp1 = pts < 75000\n",
    "        Err_mat[0, :] = pts_in_grp1 - pct_1_mod\n",
    "        pts_in_grp2 = (pts >=  75000) & (pts < 100000)\n",
    "        Err_mat[1, :] = pts_in_grp2 - pct_2_mod\n",
    "        pts_in_grp3 = pts >=  100000\n",
    "        Err_mat[2, :] = pts_in_grp3 - pct_3_mod\n",
    "\n",
    "    else:\n",
    "        pts_in_grp1 = pts < 75000\n",
    "        Err_mat[0, :] = (pts_in_grp1 - pct_1_mod) / pct_1_mod\n",
    "        pts_in_grp2 = (pts >=  75000) & (pts < 100000)\n",
    "        Err_mat[1, :] = (pts_in_grp2 - pct_2_mod) / pct_2_mod\n",
    "        pts_in_grp3 = pts >=  100000\n",
    "        Err_mat[2, :] = (pts_in_grp3 - pct_3_mod) / pct_3_mod\n",
    "    \n",
    "    return Err_mat"
   ]
  },
  {
   "cell_type": "code",
   "execution_count": 17,
   "metadata": {},
   "outputs": [
    {
     "name": "stdout",
     "output_type": "stream",
     "text": [
      "[[ 2.33333328 -0.99999998 -1.00000004]\n",
      " [-0.99999998  0.99999998 -1.00000003]\n",
      " [-1.00000004 -1.00000003  4.00000037]]\n",
      "[[ 0.25761773 -0.14958449 -0.01246537]\n",
      " [-0.14958449  0.11911357 -0.07340719]\n",
      " [-0.01246537 -0.07340719  0.20221605]]\n"
     ]
    }
   ],
   "source": [
    "Err_mat3w = get_Err_mat3(pts, mu_GMM1_3, sig_GMM1_3, 0.0, 150000.0, False)\n",
    "VCV2_3w = (1 / pts.shape[0]) * (Err_mat3w @ Err_mat3w.T)\n",
    "print(VCV2_3w)\n",
    "W_hat2_3 = lin.pinv(VCV2_3w)\n",
    "print(W_hat2_3)"
   ]
  },
  {
   "cell_type": "code",
   "execution_count": 18,
   "metadata": {},
   "outputs": [
    {
     "name": "stderr",
     "output_type": "stream",
     "text": [
      "/anaconda3/lib/python3.6/site-packages/ipykernel_launcher.py:10: IntegrationWarning: The occurrence of roundoff error is detected, which prevents \n",
      "  the requested tolerance from being achieved.  The error may be \n",
      "  underestimated.\n",
      "  # Remove the CWD from sys.path while we load stuff.\n",
      "/anaconda3/lib/python3.6/site-packages/ipykernel_launcher.py:11: IntegrationWarning: The occurrence of roundoff error is detected, which prevents \n",
      "  the requested tolerance from being achieved.  The error may be \n",
      "  underestimated.\n",
      "  # This is added back by InteractiveShellApp.init_path()\n",
      "/anaconda3/lib/python3.6/site-packages/ipykernel_launcher.py:12: IntegrationWarning: The occurrence of roundoff error is detected, which prevents \n",
      "  the requested tolerance from being achieved.  The error may be \n",
      "  underestimated.\n",
      "  if sys.path[0] == '':\n"
     ]
    },
    {
     "name": "stdout",
     "output_type": "stream",
     "text": [
      "mu_GMM1_3w =  11.333599613401043  sig_GMM1_3w =  0.21325529509280705\n",
      "Error vector =  [ 0.02208416 -0.00875996 -0.01122634]\n",
      "GMM criterion function: [[0.00020989]]\n",
      "percent ['Percent <75000', 'Percent 75000~100000', 'Percent > = 100000']\n",
      "Data Moments ([0.3, 0.5, 0.2],)\n",
      "Model Moments ([0.306625249295193, 0.49562001855191595, 0.1977547321528913],)\n"
     ]
    }
   ],
   "source": [
    "gmm_args = (pts, 0.0, 150000.0, W_hat2_3)\n",
    "results_4 = opt.minimize(criterion3, params_init, args = (gmm_args),method = 'L-BFGS-B')\n",
    "mu_GMM1_3w, sig_GMM1_3w = results_4.x\n",
    "print('mu_GMM1_3w = ', mu_GMM1_3w, ' sig_GMM1_3w = ', sig_GMM1_3w)\n",
    "err3w = err_vec3(pts, mu_GMM1_3w, sig_GMM1_3w, 0.0, 150000.0, False).reshape(3,)\n",
    "\n",
    "pert1, pert2, pert3 = model_moments3(mu_GMM1_3w, sig_GMM1_3w, 0.0, 150000.0)\n",
    "\n",
    "print('Error vector = ', err3w)\n",
    "print('GMM criterion function:',results_4.fun)\n",
    "bpct = [bpct_1_dat, bpct_2_dat, bpct_3_dat],\n",
    "pert = [pert1, pert2, pert3],\n",
    "print('percent', ['Percent <75000','Percent 75000~100000','Percent > = 100000'])\n",
    "print('Data Moments', bpct)\n",
    "print('Model Moments', pert)"
   ]
  },
  {
   "cell_type": "code",
   "execution_count": 19,
   "metadata": {},
   "outputs": [
    {
     "name": "stderr",
     "output_type": "stream",
     "text": [
      "/anaconda3/lib/python3.6/site-packages/ipykernel_launcher.py:14: RuntimeWarning: divide by zero encountered in true_divide\n",
      "  \n",
      "/anaconda3/lib/python3.6/site-packages/ipykernel_launcher.py:14: RuntimeWarning: divide by zero encountered in log\n",
      "  \n",
      "/anaconda3/lib/python3.6/site-packages/ipykernel_launcher.py:14: RuntimeWarning: invalid value encountered in multiply\n",
      "  \n"
     ]
    },
    {
     "data": {
      "image/png": "[encoded data removed]",
      "text/plain": [
       "<Figure size 432x288 with 1 Axes>"
      ]
     },
     "metadata": {
      "needs_background": "light"
     },
     "output_type": "display_data"
    }
   ],
   "source": [
    "num_bins = 30\n",
    "plt.hist(pts, num_bins, density=True, edgecolor='k')\n",
    "plt.title('Annual incomes of MACSS students who graduated in 2018-2020') \n",
    "plt.xlabel('Incomes')\n",
    "plt.ylabel('Frequency')\n",
    "plt.xlim([0, 150000])\n",
    "\n",
    "plt.plot(dist_pts, trunc_lognorm_pdf(dist_pts, mu_GMM1_3w, sig_GMM1_3w, 0.0, 150000),\n",
    "         linewidth = 2, color = 'r', label = '1: $\\mu_{GMM3w}$,$\\sigma_{GMM3w}$')\n",
    "plt.legend(loc = 'upper left')\n",
    "plt.show()"
   ]
  },
  {
   "cell_type": "markdown",
   "metadata": {},
   "source": [
    "#### (f)"
   ]
  },
  {
   "cell_type": "code",
   "execution_count": 20,
   "metadata": {},
   "outputs": [
    {
     "name": "stdout",
     "output_type": "stream",
     "text": [
      "mu= [11.333599613401043, 11.333599603618692, 11.33670517992345, 11.333599613401043]\n",
      "sig= [0.21325529509280705, 0.2132552944762103, 0.2115135161076993, 0.21325529509280705]\n",
      "GMMV= [array([[6.39928436e-16]]), array([[4.28528844e-16]]), array([[2.44369875e-15]]), array([[0.00020989]])]\n"
     ]
    }
   ],
   "source": [
    "mu = [mu_GMM1, mu_GMM2, mu_GMM1_3, mu_GMM1_3w]\n",
    "sig = [sig_GMM1, sig_GMM2, sig_GMM1_3, sig_GMM1_3w]\n",
    "GMMV = [results.fun, results2.fun, results_3.fun, results_4.fun]\n",
    "print('mu=', mu)\n",
    "print('sig=', sig)\n",
    "print('GMMV=', GMMV)"
   ]
  },
  {
   "cell_type": "markdown",
   "metadata": {},
   "source": [
    "The model from (c) fit the model best, because it has the lowest minimized GMM function value. "
   ]
  },
  {
   "cell_type": "markdown",
   "metadata": {},
   "source": [
    "## 2. Linear regression and GMM"
   ]
  },
  {
   "cell_type": "markdown",
   "metadata": {},
   "source": [
    "#### (a)"
   ]
  },
  {
   "cell_type": "code",
   "execution_count": 21,
   "metadata": {},
   "outputs": [
    {
     "data": {
      "text/html": [
       "<div>\n",
       "<style scoped>\n",
       "    .dataframe tbody tr th:only-of-type {\n",
       "        vertical-align: middle;\n",
       "    }\n",
       "\n",
       "    .dataframe tbody tr th {\n",
       "        vertical-align: top;\n",
       "    }\n",
       "\n",
       "    .dataframe thead th {\n",
       "        text-align: right;\n",
       "    }\n",
       "</style>\n",
       "<table border=\"1\" class=\"dataframe\">\n",
       "  <thead>\n",
       "    <tr style=\"text-align: right;\">\n",
       "      <th></th>\n",
       "      <th>sick</th>\n",
       "      <th>age</th>\n",
       "      <th>children</th>\n",
       "      <th>avgtemp_winter</th>\n",
       "    </tr>\n",
       "  </thead>\n",
       "  <tbody>\n",
       "    <tr>\n",
       "      <th>0</th>\n",
       "      <td>1.67</td>\n",
       "      <td>57.47</td>\n",
       "      <td>3.04</td>\n",
       "      <td>54.10</td>\n",
       "    </tr>\n",
       "    <tr>\n",
       "      <th>1</th>\n",
       "      <td>0.71</td>\n",
       "      <td>26.77</td>\n",
       "      <td>1.20</td>\n",
       "      <td>36.54</td>\n",
       "    </tr>\n",
       "    <tr>\n",
       "      <th>2</th>\n",
       "      <td>1.39</td>\n",
       "      <td>41.85</td>\n",
       "      <td>2.31</td>\n",
       "      <td>32.38</td>\n",
       "    </tr>\n",
       "    <tr>\n",
       "      <th>3</th>\n",
       "      <td>1.37</td>\n",
       "      <td>51.27</td>\n",
       "      <td>2.46</td>\n",
       "      <td>52.94</td>\n",
       "    </tr>\n",
       "    <tr>\n",
       "      <th>4</th>\n",
       "      <td>1.45</td>\n",
       "      <td>44.22</td>\n",
       "      <td>2.72</td>\n",
       "      <td>45.90</td>\n",
       "    </tr>\n",
       "  </tbody>\n",
       "</table>\n",
       "</div>"
      ],
      "text/plain": [
       "   sick    age  children  avgtemp_winter\n",
       "0  1.67  57.47      3.04           54.10\n",
       "1  0.71  26.77      1.20           36.54\n",
       "2  1.39  41.85      2.31           32.38\n",
       "3  1.37  51.27      2.46           52.94\n",
       "4  1.45  44.22      2.72           45.90"
      ]
     },
     "execution_count": 21,
     "metadata": {},
     "output_type": "execute_result"
    }
   ],
   "source": [
    "df = pd.read_csv(\"data/sick.txt\").astype('float64')\n",
    "df.head()"
   ]
  },
  {
   "cell_type": "code",
   "execution_count": 22,
   "metadata": {},
   "outputs": [],
   "source": [
    "def err_vec(df, b0, b1, b2, b3):\n",
    "    yhat = b0 + b1 * df['age'] + b2 * df['children'] + b3 * df['avgtemp_winter']\n",
    "    y = df['sick']\n",
    "    err_vec = yhat - y\n",
    "    return err_vec\n",
    "\n",
    "def crit(params,  * args):\n",
    "    b0, b1, b2, b3 = params\n",
    "    df, W = args\n",
    "    err = err_vec(df, b0, b1, b2, b3)\n",
    "    crit_val = err.T @ W @ err\n",
    "    return crit_val"
   ]
  },
  {
   "cell_type": "code",
   "execution_count": 23,
   "metadata": {},
   "outputs": [
    {
     "name": "stdout",
     "output_type": "stream",
     "text": [
      "b0= 0.2516448637202974\n",
      "b1= 0.012933469665776062\n",
      "b2= 0.4005009851118556\n",
      "b3= -0.009991708484318558\n",
      "GMM criterion function: 0.0018212898056107383\n"
     ]
    },
    {
     "data": {
      "text/plain": [
       "      fun: 0.0018212898056107383\n",
       " hess_inv: <4x4 LbfgsInvHessProduct with dtype=float64>\n",
       "      jac: array([ 9.24997925e-07, -7.38688624e-07, -8.87371773e-06,  9.37791511e-07])\n",
       "  message: b'CONVERGENCE: REL_REDUCTION_OF_F_<=_FACTR*EPSMCH'\n",
       "     nfev: 235\n",
       "      nit: 14\n",
       "   status: 0\n",
       "  success: True\n",
       "        x: array([ 0.25164486,  0.01293347,  0.40050099, -0.00999171])"
      ]
     },
     "execution_count": 23,
     "metadata": {},
     "output_type": "execute_result"
    }
   ],
   "source": [
    "b0, b1, b2, b3 = 1, 0, 0, 0\n",
    "params_init = np.array([b0, b1, b2, b3])\n",
    "W_hat = np.eye(df.shape[0])\n",
    "gmm_args = (df, W_hat)\n",
    "results = opt.minimize(crit, params_init, args = (gmm_args), tol = 1e-14,method = 'L-BFGS-B')\n",
    "b0, b1, b2, b3 = results.x\n",
    "print(\"b0=\", b0)\n",
    "print(\"b1=\", b1)\n",
    "print(\"b2=\", b2)\n",
    "print(\"b3=\", b3)\n",
    "print('GMM criterion function:', results.fun)\n",
    "results"
   ]
  }
 ],
 "metadata": {
  "kernelspec": {
   "display_name": "Python 3",
   "language": "python",
   "name": "python3"
  },
  "language_info": {
   "codemirror_mode": {
    "name": "ipython",
    "version": 3
   },
   "file_extension": ".py",
   "mimetype": "text/x-python",
   "name": "python",
   "nbconvert_exporter": "python",
   "pygments_lexer": "ipython3",
   "version": "3.6.6"
  }
 },
 "nbformat": 4,
 "nbformat_minor": 2
}
